{
 "cells": [
  {
   "cell_type": "code",
   "execution_count": 3,
   "id": "a08a5e11",
   "metadata": {},
   "outputs": [
    {
     "data": {
      "text/plain": [
       "bool"
      ]
     },
     "execution_count": 3,
     "metadata": {},
     "output_type": "execute_result"
    }
   ],
   "source": [
    "#solution1) The two boolean data type are True and False.As python is a case sensitive language due to which the first   \n",
    "# letter of boolean value (True/false) should be capital for python to consider it as boolian value.\n",
    "\n",
    "a = True\n",
    "b = False\n",
    "\n",
    "type(a)\n",
    "\n",
    "# in the above example the data type of variable a is bool as we have assigned the value True to variable a."
   ]
  },
  {
   "cell_type": "code",
   "execution_count": 4,
   "id": "68d5e34f",
   "metadata": {},
   "outputs": [
    {
     "data": {
      "text/plain": [
       "False"
      ]
     },
     "execution_count": 4,
     "metadata": {},
     "output_type": "execute_result"
    }
   ],
   "source": [
    "10 < 9"
   ]
  },
  {
   "cell_type": "code",
   "execution_count": 5,
   "id": "74c9cce0",
   "metadata": {},
   "outputs": [
    {
     "data": {
      "text/plain": [
       "bool"
      ]
     },
     "execution_count": 5,
     "metadata": {},
     "output_type": "execute_result"
    }
   ],
   "source": [
    "type(10 < 9)\n",
    "#the  type of the above expression is a bool as it is a false expression."
   ]
  },
  {
   "cell_type": "code",
   "execution_count": 6,
   "id": "3f3656b7",
   "metadata": {},
   "outputs": [
    {
     "data": {
      "text/plain": [
       "False"
      ]
     },
     "execution_count": 6,
     "metadata": {},
     "output_type": "execute_result"
    }
   ],
   "source": [
    "#solution 2) The two types of boolean operators are comparsion operators and logical operators :-\n",
    "# 1.1)and, True will be the output if both the operands are True x and y\n",
    "# 1.2)or, True will be the output if at least one operand is True x or y\n",
    "# 1.3) not, True will be the output return only if statement is False\n",
    "#above is the example of logical operators.\n",
    "\n",
    "# ==, !=, <, >, <=, >= are the comparison operators which are used to compare operands for example:-\n",
    "\n",
    "a = 10\n",
    "b = 20\n",
    "\n",
    "a == b\n",
    "\n",
    "#hence the output we got is False as it compared the value of a variable to variable b.\n"
   ]
  },
  {
   "cell_type": "code",
   "execution_count": 7,
   "id": "b67221f2",
   "metadata": {},
   "outputs": [],
   "source": [
    "#solution 3) The Truth tables for the boolean tables are as follows:\n",
    "\n",
    "#Truth Table for and (logical) operator are:-\n",
    "#False and False is False(output).\n",
    "#True and True is True (output).\n",
    "#False and True is False (output).\n",
    "#True and False is False (output).\n",
    "#Truth Table for or (logical)  operaotor are:-\n",
    "#True and True is True (output).\n",
    "#True and False is True (output).\n",
    "#False and True is True (output).\n",
    "#False and False is False (output).\n",
    "#Truth Table for not operaotor is :-\n",
    "#True only if false. \n"
   ]
  },
  {
   "cell_type": "code",
   "execution_count": 8,
   "id": "f084fe03",
   "metadata": {},
   "outputs": [
    {
     "name": "stdout",
     "output_type": "stream",
     "text": [
      "False\n",
      "True\n",
      "True\n",
      "False\n",
      "False\n",
      "True\n"
     ]
    }
   ],
   "source": [
    "#solution4) the values are as follows:-\n",
    "print((5>4)and(3==5)) \n",
    "print(not(3>4)) \n",
    "print((5>4)or(3==5)) \n",
    "print(not((5>4)or(3==5))) \n",
    "print((True and True)and(True==False)) \n",
    "print((not False)or(not True)) "
   ]
  },
  {
   "cell_type": "code",
   "execution_count": 9,
   "id": "abe4369a",
   "metadata": {},
   "outputs": [],
   "source": [
    "#solution 5) The Six comparision operators in python are as follows:-\n",
    "#== ,equal equal to \n",
    "# != not eqaul to ,\n",
    "# < less than  ,\n",
    "# > greater than ,\n",
    "# <= equal to or less than ,\n",
    "#=>equal to or grater than#"
   ]
  },
  {
   "cell_type": "code",
   "execution_count": 10,
   "id": "55ed0c05",
   "metadata": {},
   "outputs": [],
   "source": [
    "#solution 6) The '='(equal to ) is an assignment operator which is used to assign the value to the variable on either of the side(left/right)\n",
    "# where as '==' checks whether the given operands are equal or not.\n",
    "\n",
    "5 == 5  # will return True\n",
    "#where as \n",
    "a = \"hello world\" \n",
    "#will assign value to a will return the string 'hello world'\n"
   ]
  },
  {
   "cell_type": "code",
   "execution_count": 11,
   "id": "8f64296a",
   "metadata": {},
   "outputs": [
    {
     "data": {
      "text/plain": [
       "'hello world'"
      ]
     },
     "execution_count": 11,
     "metadata": {},
     "output_type": "execute_result"
    }
   ],
   "source": [
    "a"
   ]
  },
  {
   "cell_type": "code",
   "execution_count": 12,
   "id": "4e5f3d87",
   "metadata": {},
   "outputs": [
    {
     "name": "stdout",
     "output_type": "stream",
     "text": [
      "ham\n",
      "spam\n",
      "spam\n"
     ]
    }
   ],
   "source": [
    "#solution 7)\n",
    "spam = 0\n",
    "if spam == 10:\n",
    "    print('eggs')\n",
    "if spam > 5:\n",
    "    print('bacon')\n",
    "else:\n",
    "    print('ham')\n",
    "    print('spam')\n",
    "    print('spam')\n",
    "    \n",
    "    \n",
    " #solution 7) a python code block is a piece of a code or python programme that is in the same block or content\n",
    "#  This is mostly found in classes, functions, and loops."
   ]
  },
  {
   "cell_type": "code",
   "execution_count": 13,
   "id": "aa6c924d",
   "metadata": {},
   "outputs": [],
   "source": [
    "#solution8)\n",
    "def Spam(spam):\n",
    "    if spam == 1:\n",
    "        print('hello')\n",
    "    elif  spam == 2:\n",
    "        print('howdy')\n",
    "    else:\n",
    "        print('greeting')"
   ]
  },
  {
   "cell_type": "code",
   "execution_count": 14,
   "id": "6ccb0912",
   "metadata": {},
   "outputs": [
    {
     "name": "stdout",
     "output_type": "stream",
     "text": [
      "hello\n"
     ]
    }
   ],
   "source": [
    "Spam(1)"
   ]
  },
  {
   "cell_type": "code",
   "execution_count": 15,
   "id": "95bcbd67",
   "metadata": {},
   "outputs": [
    {
     "ename": "TypeError",
     "evalue": "'int' object is not callable",
     "output_type": "error",
     "traceback": [
      "\u001b[1;31m---------------------------------------------------------------------------\u001b[0m",
      "\u001b[1;31mTypeError\u001b[0m                                 Traceback (most recent call last)",
      "\u001b[1;32m~\\AppData\\Local\\Temp/ipykernel_13272/1879155672.py\u001b[0m in \u001b[0;36m<module>\u001b[1;34m\u001b[0m\n\u001b[1;32m----> 1\u001b[1;33m \u001b[0mspam\u001b[0m\u001b[1;33m(\u001b[0m\u001b[1;36m2\u001b[0m\u001b[1;33m)\u001b[0m\u001b[1;33m\u001b[0m\u001b[1;33m\u001b[0m\u001b[0m\n\u001b[0m",
      "\u001b[1;31mTypeError\u001b[0m: 'int' object is not callable"
     ]
    }
   ],
   "source": [
    "spam(2)"
   ]
  },
  {
   "cell_type": "code",
   "execution_count": null,
   "id": "e7b34e71",
   "metadata": {},
   "outputs": [],
   "source": [
    "spam(3)"
   ]
  },
  {
   "cell_type": "code",
   "execution_count": null,
   "id": "67f91fe0",
   "metadata": {},
   "outputs": [],
   "source": [
    "#solution9) Ctrl + C keys can be used if we are stuck in an endless loop."
   ]
  },
  {
   "cell_type": "code",
   "execution_count": null,
   "id": "1ea0e827",
   "metadata": {},
   "outputs": [],
   "source": [
    "#solution10)the break statement terminates or stops the whole iteration of a  loop,\n",
    "# wheresas Continue skips the current iteration and jump to the next iteration.\n"
   ]
  },
  {
   "cell_type": "code",
   "execution_count": null,
   "id": "08d6489f",
   "metadata": {},
   "outputs": [],
   "source": [
    "#solution11) in a for loop the difference between range(10), range(0, 10), and range(0, 10, 1) is:- \n",
    "#The range(10) call range from 0 to 9 (but does not include 10 in the output),\n",
    "#The range (0,10)  tells  the loop to start at 0,\n",
    "#The range(0,10,1)  tells the loop to increase the variable by 1 on each iteration.\n",
    "\n"
   ]
  },
  {
   "cell_type": "code",
   "execution_count": 21,
   "id": "07a1fa13",
   "metadata": {},
   "outputs": [
    {
     "name": "stdout",
     "output_type": "stream",
     "text": [
      "0\n",
      "1\n",
      "2\n",
      "3\n",
      "4\n",
      "5\n",
      "6\n",
      "7\n",
      "8\n",
      "9\n",
      "10\n"
     ]
    }
   ],
   "source": [
    "#solution12)\n",
    "for a in range(0,11):\n",
    "    print(a)"
   ]
  },
  {
   "cell_type": "code",
   "execution_count": 22,
   "id": "0409cff8",
   "metadata": {},
   "outputs": [
    {
     "name": "stdout",
     "output_type": "stream",
     "text": [
      "1\n",
      "2\n",
      "3\n",
      "4\n",
      "5\n",
      "6\n",
      "7\n",
      "8\n",
      "9\n",
      "10\n"
     ]
    }
   ],
   "source": [
    "#solution12)\n",
    "i=1\n",
    "while i<=10:\n",
    "    print(i)\n",
    "    i= i+1"
   ]
  },
  {
   "cell_type": "code",
   "execution_count": 23,
   "id": "fc0a68d9",
   "metadata": {},
   "outputs": [],
   "source": [
    "#solution13)The function can be called with spam.bacon()"
   ]
  },
  {
   "cell_type": "code",
   "execution_count": null,
   "id": "fa03973b",
   "metadata": {},
   "outputs": [],
   "source": []
  }
 ],
 "metadata": {
  "kernelspec": {
   "display_name": "Python 3 (ipykernel)",
   "language": "python",
   "name": "python3"
  },
  "language_info": {
   "codemirror_mode": {
    "name": "ipython",
    "version": 3
   },
   "file_extension": ".py",
   "mimetype": "text/x-python",
   "name": "python",
   "nbconvert_exporter": "python",
   "pygments_lexer": "ipython3",
   "version": "3.9.7"
  }
 },
 "nbformat": 4,
 "nbformat_minor": 5
}
