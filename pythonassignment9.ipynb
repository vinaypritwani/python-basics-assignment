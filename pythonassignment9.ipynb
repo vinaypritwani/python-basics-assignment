{
 "cells": [
  {
   "cell_type": "markdown",
   "id": "1fb9f905",
   "metadata": {},
   "source": [
    "# Assignment 9 Solutions"
   ]
  },
  {
   "cell_type": "markdown",
   "id": "f086526d",
   "metadata": {},
   "source": [
    "### 1.To what does a relative path refer ?"
   ]
  },
  {
   "cell_type": "markdown",
   "id": "d2b65995",
   "metadata": {},
   "source": [
    "* Relative path also known as non absolute path or partial path describes the location of a file or folder in relative to the current working directory, Unlike absolute paths, it possess information that is only relative to the current document within the same website which discard the need to provide a full absolute path. \n",
    "\n"
   ]
  },
  {
   "cell_type": "markdown",
   "id": "329c7e13",
   "metadata": {},
   "source": [
    "### 2. What does an absolute path start with your operating system?"
   ]
  },
  {
   "cell_type": "markdown",
   "id": "38a901d4",
   "metadata": {},
   "source": [
    "* The absolute path starts at the home directory of your system and will end with the file or directory that you want to access."
   ]
  },
  {
   "cell_type": "code",
   "execution_count": 9,
   "id": "057a8a52",
   "metadata": {},
   "outputs": [],
   "source": [
    "import os\n",
    "path = r'C:\\Users\\DELL\\.ipynb_checkpoints\\Untitled35-checkpoint.ipynb'"
   ]
  },
  {
   "cell_type": "code",
   "execution_count": 10,
   "id": "4a72bd39",
   "metadata": {},
   "outputs": [
    {
     "data": {
      "text/plain": [
       "'C:\\\\Users\\\\DELL\\\\.ipynb_checkpoints\\\\Untitled35-checkpoint.ipynb'"
      ]
     },
     "execution_count": 10,
     "metadata": {},
     "output_type": "execute_result"
    }
   ],
   "source": [
    "os.path.abspath(path)"
   ]
  },
  {
   "cell_type": "markdown",
   "id": "a1cdd7d5",
   "metadata": {},
   "source": [
    "### 3. What do the functions os.getcwd() and os.chdir() do? "
   ]
  },
  {
   "cell_type": "markdown",
   "id": "abdabd3b",
   "metadata": {},
   "source": [
    "* os.getcwd() method tell us about the location of the current working directory (CWD) Whereas os.chdir() is used to change the current working directory to specified path directory."
   ]
  },
  {
   "cell_type": "markdown",
   "id": "edefb8c4",
   "metadata": {},
   "source": [
    "### 4. What are the . and .. folders?"
   ]
  },
  {
   "cell_type": "markdown",
   "id": "d4e51c01",
   "metadata": {},
   "source": [
    "*  (.) = this directory\n",
    "\n",
    "    (..)= parent directory"
   ]
  },
  {
   "cell_type": "markdown",
   "id": "a66c66cc",
   "metadata": {},
   "source": [
    "### 5. In C:\\bacon\\eggs\\spam.txt, which part is the dir name, and which part is the base name?"
   ]
  },
  {
   "cell_type": "markdown",
   "id": "e99009b4",
   "metadata": {},
   "source": [
    "* dir name :- C:\\bacon\\eggs\n",
    "\n",
    "  base name :- \\spam.txt"
   ]
  },
  {
   "cell_type": "code",
   "execution_count": 35,
   "id": "4d23efdd",
   "metadata": {},
   "outputs": [
    {
     "name": "stdout",
     "output_type": "stream",
     "text": [
      "‪C:\\Users\\DELL\\Documents\n",
      "vinu\n"
     ]
    }
   ],
   "source": [
    "print(os.path.dirname(path))\n",
    "print(os.path.basename(path))"
   ]
  },
  {
   "cell_type": "markdown",
   "id": "bebbe410",
   "metadata": {},
   "source": [
    "### 6.What are the three mode arguments that can be passed to the open() function ? "
   ]
  },
  {
   "cell_type": "markdown",
   "id": "eccec3fb",
   "metadata": {},
   "source": [
    "  * 'r' --> open for reading in text mode.\n",
    "  * 'w' --> open for writing.\n",
    "  * 'a' --> open for appending."
   ]
  },
  {
   "cell_type": "markdown",
   "id": "acffc573",
   "metadata": {},
   "source": [
    "### 7.What happens if an existing file is opened in write mode ? "
   ]
  },
  {
   "cell_type": "markdown",
   "id": "28d78871",
   "metadata": {},
   "source": [
    "* when an existing file is opened in a write mode its previous content will be overwritten and file is treated as \n",
    "  new empty file. If the given file does not exist, a new one will be created."
   ]
  },
  {
   "cell_type": "markdown",
   "id": "be1c8324",
   "metadata": {},
   "source": [
    "### 8.How do you tell the difference between read() and readlines() ? "
   ]
  },
  {
   "cell_type": "markdown",
   "id": "78dac2d1",
   "metadata": {},
   "source": [
    "* read() mode will iterate over each character whereas readlines will be reading only single line of the file."
   ]
  },
  {
   "cell_type": "markdown",
   "id": "6f6394fd",
   "metadata": {},
   "source": [
    "### 9.What data structure does a shelf value resemble ?"
   ]
  },
  {
   "cell_type": "markdown",
   "id": "ac1fb48a",
   "metadata": {},
   "source": [
    "* it has key and values in it so the shelf values resembles dictionary."
   ]
  },
  {
   "cell_type": "code",
   "execution_count": null,
   "id": "45f1cd25",
   "metadata": {},
   "outputs": [],
   "source": []
  }
 ],
 "metadata": {
  "kernelspec": {
   "display_name": "Python 3 (ipykernel)",
   "language": "python",
   "name": "python3"
  },
  "language_info": {
   "codemirror_mode": {
    "name": "ipython",
    "version": 3
   },
   "file_extension": ".py",
   "mimetype": "text/x-python",
   "name": "python",
   "nbconvert_exporter": "python",
   "pygments_lexer": "ipython3",
   "version": "3.9.12"
  }
 },
 "nbformat": 4,
 "nbformat_minor": 5
}
