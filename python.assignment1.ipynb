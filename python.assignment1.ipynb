{
 "cells": [
  {
   "cell_type": "code",
   "execution_count": 1,
   "id": "7795c2be",
   "metadata": {},
   "outputs": [],
   "source": [
    "# solution 1) * , - , /, + are all mathematical operators which cannot be assigned to a particular variable\n",
    "#therefore are called expressions whereas 'hello',-87.8 and 6 are all values which can be assigned to a vairable."
   ]
  },
  {
   "cell_type": "code",
   "execution_count": 11,
   "id": "c89c9b5e",
   "metadata": {},
   "outputs": [],
   "source": [
    "# solution2) A variable is just a name to which we can assign a value for instance integer or string etc  that can be\n",
    "# manupulated or changed, for example a = \"hello world\" here a is a variable to which we have assigned a string as a value.\n",
    "# string refers to anything be it numerical or alphabetical that you asssign to a variable using single or double \n",
    "# parenthesis is called string. in the above example the type(a) is str that is string, there a is the variable that we\n",
    "# have declared a string by assigning value \"hello world\"."
   ]
  },
  {
   "cell_type": "code",
   "execution_count": 14,
   "id": "8736aeee",
   "metadata": {},
   "outputs": [],
   "source": [
    "# solution3) the three of many different data types in python are:-\n",
    "#1) numeric => 1.1) integers - it has positive or negative whole numbers but no decimal numbers.\n",
    "#              1.2) float - it is real number with decimal for ex :- 10.2, 45.80 etc.\n",
    "#              1.3) complex numbers - it is mix of real number and imaginary part for ex 2+5j, 3*2f etc\n",
    "# 2) sequence) => 1.1) string - collection of characters put inside a single quote or double quote.\n",
    "#              1.2) list - it is collection of data where data types need not has to be same for ex :- list =[1,2,3,4,\"ineuron\"]\n",
    "#              1.3)tuple - tuples are same like list but it cannot be manupulated or chnaged once it is created.\n",
    "# 3) mapping) => 1.1) dictionary - dict is used to store values in key and value pairs which is ordered and can be changed but doesnt allow duplicate values,for ex dict = {\"ineuron\": \"data science\"} "
   ]
  },
  {
   "cell_type": "code",
   "execution_count": 16,
   "id": "8c1eb51c",
   "metadata": {},
   "outputs": [],
   "source": [
    "# solution4)  an expression is a sequemce or combination of values, operators and functions that are combined and \n",
    "#interpreted by compiler to which results in creation of some value.\n",
    "#for example :- a + b is an expression.\n"
   ]
  },
  {
   "cell_type": "code",
   "execution_count": 17,
   "id": "0a9023dd",
   "metadata": {},
   "outputs": [],
   "source": [
    "# solution5) an expression is a sequemce or combination of values, operators and functions that are combined and \n",
    "#interpreted by compiler to which results in creation of some value.\n",
    "\n",
    "# whereas A statement is a line of executable code but its execution may or may not produce result.\n",
    "#every statement can become an expression but expression can't become a statement.\n",
    "# Example of statement : x = 3  print(x) Output : 3\n",
    "#Example of expression :  a + 16 = 20"
   ]
  },
  {
   "cell_type": "code",
   "execution_count": 18,
   "id": "40105468",
   "metadata": {},
   "outputs": [
    {
     "data": {
      "text/plain": [
       "23"
      ]
     },
     "execution_count": 18,
     "metadata": {},
     "output_type": "execute_result"
    }
   ],
   "source": [
    "# solution 6) \n",
    "bacon = 22\n",
    "bacon + 1"
   ]
  },
  {
   "cell_type": "code",
   "execution_count": 23,
   "id": "130e7a2b",
   "metadata": {},
   "outputs": [
    {
     "name": "stdout",
     "output_type": "stream",
     "text": [
      "22\n"
     ]
    }
   ],
   "source": [
    "print(bacon)"
   ]
  },
  {
   "cell_type": "code",
   "execution_count": 24,
   "id": "7e6ca511",
   "metadata": {},
   "outputs": [],
   "source": [
    "#the variable bacon contains 22, the expression bacon + 1 didnt reassigned the value to bacon but if\n",
    "#it was written in this (bacon = bacon + 1) in this way the answer would be 23."
   ]
  },
  {
   "cell_type": "code",
   "execution_count": 25,
   "id": "fed9b292",
   "metadata": {},
   "outputs": [],
   "source": [
    "bacon = bacon + 1"
   ]
  },
  {
   "cell_type": "code",
   "execution_count": 26,
   "id": "2d643d4e",
   "metadata": {},
   "outputs": [
    {
     "data": {
      "text/plain": [
       "23"
      ]
     },
     "execution_count": 26,
     "metadata": {},
     "output_type": "execute_result"
    }
   ],
   "source": [
    "bacon"
   ]
  },
  {
   "cell_type": "code",
   "execution_count": null,
   "id": "4e4b6636",
   "metadata": {},
   "outputs": [],
   "source": [
    "# solution 7) the value of both the term is same. first expression does string concatination \n",
    "#and second one does string multiplication operation."
   ]
  },
  {
   "cell_type": "code",
   "execution_count": 27,
   "id": "1386b9ad",
   "metadata": {},
   "outputs": [
    {
     "data": {
      "text/plain": [
       "'spamspamspam'"
      ]
     },
     "execution_count": 27,
     "metadata": {},
     "output_type": "execute_result"
    }
   ],
   "source": [
    "'spam' + 'spamspam'"
   ]
  },
  {
   "cell_type": "code",
   "execution_count": 28,
   "id": "402439f0",
   "metadata": {},
   "outputs": [
    {
     "data": {
      "text/plain": [
       "'spamspamspam'"
      ]
     },
     "execution_count": 28,
     "metadata": {},
     "output_type": "execute_result"
    }
   ],
   "source": [
    "'spam'*3"
   ]
  },
  {
   "cell_type": "code",
   "execution_count": 36,
   "id": "03c1e015",
   "metadata": {},
   "outputs": [],
   "source": [
    " #solution 8) The python rules for a variable are :-\n",
    "\n",
    "#Variable name cant start with a number.\n",
    "#Variable name can only contain alpha-numeric characters and underscores.\n",
    "#Variable names are case-sensitive for exaple :- VINAY And vinay are diferent variable names.\n",
    "#The reserved keywords already used cannot be reassigned."
   ]
  },
  {
   "cell_type": "code",
   "execution_count": 41,
   "id": "ee744513",
   "metadata": {},
   "outputs": [
    {
     "ename": "TypeError",
     "evalue": "can only concatenate str (not \"int\") to str",
     "output_type": "error",
     "traceback": [
      "\u001b[1;31m---------------------------------------------------------------------------\u001b[0m",
      "\u001b[1;31mTypeError\u001b[0m                                 Traceback (most recent call last)",
      "\u001b[1;32m~\\AppData\\Local\\Temp/ipykernel_10872/3284507513.py\u001b[0m in \u001b[0;36m<module>\u001b[1;34m\u001b[0m\n\u001b[0;32m      1\u001b[0m \u001b[1;31m#solution 10)\u001b[0m\u001b[1;33m\u001b[0m\u001b[1;33m\u001b[0m\u001b[0m\n\u001b[1;32m----> 2\u001b[1;33m \u001b[1;34m'I have eaten'\u001b[0m\u001b[1;33m+\u001b[0m \u001b[1;36m99\u001b[0m \u001b[1;33m+\u001b[0m \u001b[1;34m'burritos'\u001b[0m\u001b[1;33m\u001b[0m\u001b[1;33m\u001b[0m\u001b[0m\n\u001b[0m\u001b[0;32m      3\u001b[0m \u001b[1;31m#it is causing an error because 99 is a int and we cannot perform concatiantion operation with str and int so in this\u001b[0m\u001b[1;33m\u001b[0m\u001b[1;33m\u001b[0m\u001b[0m\n\u001b[0;32m      4\u001b[0m \u001b[1;31m#case 99 have to be typecasted to convert it into a string using single or double quote.\u001b[0m\u001b[1;33m\u001b[0m\u001b[1;33m\u001b[0m\u001b[0m\n",
      "\u001b[1;31mTypeError\u001b[0m: can only concatenate str (not \"int\") to str"
     ]
    }
   ],
   "source": [
    "#solution 10)\n",
    "'I have eaten'+ 99 + 'burritos'\n",
    "#it is causing an error because 99 is a int and we cannot perform concatiantion operation with str and int so in this \n",
    "#case 99 have to be typecasted to convert it into a string using single or double quote.\n"
   ]
  },
  {
   "cell_type": "code",
   "execution_count": 42,
   "id": "4cfea80f",
   "metadata": {},
   "outputs": [
    {
     "data": {
      "text/plain": [
       "'I have eaten99burritos'"
      ]
     },
     "execution_count": 42,
     "metadata": {},
     "output_type": "execute_result"
    }
   ],
   "source": [
    "'I have eaten'+ str(99) + 'burritos'"
   ]
  },
  {
   "cell_type": "code",
   "execution_count": null,
   "id": "990b2017",
   "metadata": {},
   "outputs": [],
   "source": []
  }
 ],
 "metadata": {
  "kernelspec": {
   "display_name": "Python 3 (ipykernel)",
   "language": "python",
   "name": "python3"
  },
  "language_info": {
   "codemirror_mode": {
    "name": "ipython",
    "version": 3
   },
   "file_extension": ".py",
   "mimetype": "text/x-python",
   "name": "python",
   "nbconvert_exporter": "python",
   "pygments_lexer": "ipython3",
   "version": "3.9.7"
  }
 },
 "nbformat": 4,
 "nbformat_minor": 5
}
