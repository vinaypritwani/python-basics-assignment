{
 "cells": [
  {
   "cell_type": "code",
   "execution_count": 1,
   "id": "4b3ce1b7",
   "metadata": {},
   "outputs": [
    {
     "data": {
      "text/plain": [
       "0"
      ]
     },
     "execution_count": 1,
     "metadata": {},
     "output_type": "execute_result"
    }
   ],
   "source": [
    "#solutuion1) Dictionary represented by two curly brackets which holds the key value pair so the empty dictionary will \n",
    "#be completely null like:-\n",
    "EmptyDict = {}\n",
    "len(EmptyDict) "
   ]
  },
  {
   "cell_type": "code",
   "execution_count": 4,
   "id": "0bad7639",
   "metadata": {},
   "outputs": [
    {
     "data": {
      "text/plain": [
       "dict_values([42])"
      ]
     },
     "execution_count": 4,
     "metadata": {},
     "output_type": "execute_result"
    }
   ],
   "source": [
    "#solution2)\n",
    "dict = {\"foo\":42}\n",
    "dict.values() \n"
   ]
  },
  {
   "cell_type": "code",
   "execution_count": 5,
   "id": "1bfeddf2",
   "metadata": {},
   "outputs": [],
   "source": [
    "#solution3)1)list is the ordered collection of values whereas dictionary is the unordered collection of values.\n",
    "#2) list is represented by [] squared brackets whereas dictionary is represented by {} curly brackets.\n",
    "#3)list holds the data in a ordered collection of values format whereas dictionary holds the data in a key-value pair format.\n"
   ]
  },
  {
   "cell_type": "code",
   "execution_count": 10,
   "id": "e4b27b67",
   "metadata": {},
   "outputs": [
    {
     "ename": "KeyError",
     "evalue": "'foo'",
     "output_type": "error",
     "traceback": [
      "\u001b[0;31m---------------------------------------------------------------------------\u001b[0m",
      "\u001b[0;31mKeyError\u001b[0m                                  Traceback (most recent call last)",
      "\u001b[0;32m<ipython-input-10-720609e41507>\u001b[0m in \u001b[0;36m<module>\u001b[0;34m\u001b[0m\n\u001b[1;32m      1\u001b[0m \u001b[0;31m#solution4) we will get a keyerror 'foo' which means if we place the right key instead of foo in second line of code\u001b[0m\u001b[0;34m\u001b[0m\u001b[0;34m\u001b[0m\u001b[0;34m\u001b[0m\u001b[0m\n\u001b[1;32m      2\u001b[0m \u001b[0mspam\u001b[0m \u001b[0;34m=\u001b[0m \u001b[0;34m{\u001b[0m\u001b[0;34m'bar'\u001b[0m\u001b[0;34m:\u001b[0m \u001b[0;36m100\u001b[0m\u001b[0;34m}\u001b[0m\u001b[0;34m\u001b[0m\u001b[0;34m\u001b[0m\u001b[0m\n\u001b[0;32m----> 3\u001b[0;31m \u001b[0mspam\u001b[0m\u001b[0;34m[\u001b[0m\u001b[0;34m'foo'\u001b[0m\u001b[0;34m]\u001b[0m\u001b[0;34m\u001b[0m\u001b[0;34m\u001b[0m\u001b[0m\n\u001b[0m",
      "\u001b[0;31mKeyError\u001b[0m: 'foo'"
     ]
    }
   ],
   "source": [
    "#solution4) we will get a keyerror 'foo' which means if we place the right key instead of foo in second line of code we will\n",
    "#get the value of key of that particular dictionary.\n",
    "spam = {'bar': 100}\n",
    "spam['foo']"
   ]
  },
  {
   "cell_type": "code",
   "execution_count": 10,
   "id": "874f746f",
   "metadata": {},
   "outputs": [
    {
     "name": "stdout",
     "output_type": "stream",
     "text": [
      "True\n",
      "True\n"
     ]
    }
   ],
   "source": [
    "#solution5) as we can see there's no difference  both verifies if the cat is key of the dictionary and if its a key, returns True.\n",
    "spam = {'cat': 10}\n",
    "print('cat' in spam.keys())\n",
    "print('cat' in spam)"
   ]
  },
  {
   "cell_type": "code",
   "execution_count": 16,
   "id": "3297f754",
   "metadata": {},
   "outputs": [
    {
     "name": "stdout",
     "output_type": "stream",
     "text": [
      "True\n",
      "False\n"
     ]
    }
   ],
   "source": [
    "#solu6ion6)  for spam1 it is returning ture as cat there is the key pair but in spam2 it is not the case thats why it is \n",
    "#returning false\n",
    "spam1 ={'cat':20}\n",
    "print('cat' in spam)\n",
    "spam2 ={'cat':20}\n",
    "print('cat' in spam2.values())"
   ]
  },
  {
   "cell_type": "code",
   "execution_count": 18,
   "id": "b4eb0340",
   "metadata": {},
   "outputs": [
    {
     "data": {
      "text/plain": [
       "{'cat': 100, 'color': 'black'}"
      ]
     },
     "execution_count": 18,
     "metadata": {},
     "output_type": "execute_result"
    }
   ],
   "source": [
    "#solution7)\n",
    "spam ={'cat':100}\n",
    "spam.setdefault('color','black')\n",
    "spam"
   ]
  },
  {
   "cell_type": "code",
   "execution_count": 32,
   "id": "da4a911a",
   "metadata": {},
   "outputs": [
    {
     "name": "stdout",
     "output_type": "stream",
     "text": [
      "[{1: 2, 3: 4, 4: 5}, {1: 2, 3: 4, 4: 5}, {1: 2, 3: 4, 4: 5}, {1: 2, 3: 4, 4: 5}, {1: 2, 3: 4, 4: 5}, {1: 2, 3: 4, 4: 5}]\n",
      "\n",
      "\n",
      "[{1: 2, 3: 4, 4: 5},\n",
      " {1: 2, 3: 4, 4: 5},\n",
      " {1: 2, 3: 4, 4: 5},\n",
      " {1: 2, 3: 4, 4: 5},\n",
      " {1: 2, 3: 4, 4: 5},\n",
      " {1: 2, 3: 4, 4: 5}]\n"
     ]
    }
   ],
   "source": [
    "#solution8)so with the use of pprint dictionary(dict1) seems more structured and readable.\n",
    "import pprint\n",
    "\n",
    "dict1 = [{1:2,3:4,4:5},{1:2,3:4,4:5}, {1:2,3:4,4:5}, {1:2,3:4,4:5}, {1:2,3:4,4:5}, {1:2,3:4,4:5} ]\n",
    "\n",
    "print (dict1)\n",
    "print (\"\\n\")\n",
    "\n",
    "\n",
    "\n",
    "\n",
    "pprint.pprint(dict1)"
   ]
  },
  {
   "cell_type": "code",
   "execution_count": null,
   "id": "a80b9c11",
   "metadata": {},
   "outputs": [],
   "source": []
  }
 ],
 "metadata": {
  "kernelspec": {
   "display_name": "Python 3",
   "language": "python",
   "name": "python3"
  },
  "language_info": {
   "codemirror_mode": {
    "name": "ipython",
    "version": 3
   },
   "file_extension": ".py",
   "mimetype": "text/x-python",
   "name": "python",
   "nbconvert_exporter": "python",
   "pygments_lexer": "ipython3",
   "version": "3.6.15"
  }
 },
 "nbformat": 4,
 "nbformat_minor": 5
}
