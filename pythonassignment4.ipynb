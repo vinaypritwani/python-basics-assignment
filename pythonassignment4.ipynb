{
 "cells": [
  {
   "cell_type": "code",
   "execution_count": 1,
   "id": "9ab7bf88",
   "metadata": {},
   "outputs": [],
   "source": [
    "#solution1) The sqaured brackets can be used to create lists and [] this empty brackets can be considered as empty list in which we can place elements of a variable seperated by commas."
   ]
  },
  {
   "cell_type": "code",
   "execution_count": 31,
   "id": "939fa221",
   "metadata": {},
   "outputs": [
    {
     "name": "stdout",
     "output_type": "stream",
     "text": [
      "[2, 4, 6, 'hello', 8, 10]\n",
      "[2, 4, 6, 'hello', 10]\n"
     ]
    }
   ],
   "source": [
    "#solution2)as list follows zero based indexing 'hello' will come after 6 on the 3rd index if we use insert function to \n",
    "#assign \"hello\" the 3rd index but we can also assign hello the 3rd index by replacing it with the value(8) that is on 3rd index. \n",
    "spam = [2, 4, 6, 8, 10] \n",
    "spam.insert(3,'hello')\n",
    "print(spam)\n",
    "spam = [2,4,6,8,10]\n",
    "spam[3] = 'hello'\n",
    "print(spam)"
   ]
  },
  {
   "cell_type": "code",
   "execution_count": 35,
   "id": "a62f89f1",
   "metadata": {},
   "outputs": [
    {
     "data": {
      "text/plain": [
       "'d'"
      ]
     },
     "execution_count": 35,
     "metadata": {},
     "output_type": "execute_result"
    }
   ],
   "source": [
    "#solution3)\n",
    "spam = ['a','b','c','d']\n",
    "spam[int(int('3'*2)/11)]\n",
    "#in the above statement '3' is a string which is converted to int so '3'*2 gives 33 when divided by 11 gives 3 and spam[3] = 'd'."
   ]
  },
  {
   "cell_type": "code",
   "execution_count": 41,
   "id": "ca4269f1",
   "metadata": {},
   "outputs": [
    {
     "data": {
      "text/plain": [
       "'d'"
      ]
     },
     "execution_count": 41,
     "metadata": {},
     "output_type": "execute_result"
    }
   ],
   "source": [
    "#solution4) list enables us to take the value out of it whith negatie indexing as well which starts with -1 in a reverse order of the values. so the value of spam[-1] will be d. \n",
    "spam[-1] "
   ]
  },
  {
   "cell_type": "code",
   "execution_count": 47,
   "id": "e4ad98ce",
   "metadata": {},
   "outputs": [
    {
     "data": {
      "text/plain": [
       "['a', 'b']"
      ]
     },
     "execution_count": 47,
     "metadata": {},
     "output_type": "execute_result"
    }
   ],
   "source": [
    "#soluton5)the spam[:2] gives us all the values ranging from 0 to 2th index excluding the 2nd index.\n",
    "spam[:2]"
   ]
  },
  {
   "cell_type": "code",
   "execution_count": 48,
   "id": "404cb0a1",
   "metadata": {},
   "outputs": [
    {
     "data": {
      "text/plain": [
       "1"
      ]
     },
     "execution_count": 48,
     "metadata": {},
     "output_type": "execute_result"
    }
   ],
   "source": [
    "#solution6) \n",
    "bacon = [3.14, \"cat\", 11,\"cat\",\" True\"]\n",
    "bacon.index('cat')"
   ]
  },
  {
   "cell_type": "code",
   "execution_count": 54,
   "id": "3f0eef80",
   "metadata": {},
   "outputs": [
    {
     "name": "stdout",
     "output_type": "stream",
     "text": [
      "[3.14, 'cat', 11, 'cat', ' True', 99]\n"
     ]
    }
   ],
   "source": [
    "#solution7) the append function helps us to add any element to the end of a list.\n",
    "bacon = [3.14, \"cat\", 11,\"cat\",\" True\"]\n",
    "bacon.append(99)\n",
    "print(bacon)"
   ]
  },
  {
   "cell_type": "code",
   "execution_count": 69,
   "id": "c99691f5",
   "metadata": {},
   "outputs": [
    {
     "name": "stdout",
     "output_type": "stream",
     "text": [
      "[3.14, 11, 'cat', ' True']\n"
     ]
    }
   ],
   "source": [
    "#soluton8) the remove function only removes the first occurence of the element that we wish to  remove \n",
    "bacon = [3.14, \"cat\", 11,\"cat\",\" True\"]\n",
    "bacon.remove('cat')\n",
    "print(bacon)"
   ]
  },
  {
   "cell_type": "code",
   "execution_count": 77,
   "id": "11476efd",
   "metadata": {},
   "outputs": [
    {
     "name": "stdout",
     "output_type": "stream",
     "text": [
      "['a', 'b', 'cat', 'mouse', 1, 2, 3, 'python', 'ineuron', 46.5]\n",
      "['a', 'b', 'cat', 'mouse', 'a', 'b', 'cat', 'mouse', 'a', 'b', 'cat', 'mouse']\n"
     ]
    }
   ],
   "source": [
    "#solution9) the list concatination joins the two or more list together to covert them in a single list\n",
    "list1= ['a','b',\"cat\", \"mouse\"]\n",
    "list2 = [1,2,3,\"python\",\"ineuron\", 46.5]\n",
    "print(list1 + list2)\n",
    "#list replication uses the multiplication * operator to replicate the list as many number of times as we want\n",
    "print(list1 * 3)\n"
   ]
  },
  {
   "cell_type": "code",
   "execution_count": 86,
   "id": "e42acac7",
   "metadata": {},
   "outputs": [
    {
     "name": "stdout",
     "output_type": "stream",
     "text": [
      "[1, 2, 3, 'python', 'ineuron', 46.5, [1, 2, 3, 4, 5], [1, 2, 3, 4, 5], [1, 2, 3, 4, 5]]\n",
      "[[1, 2, 3, 4, 5, 6], 1, 2, 3, 'python', 'ineuron', 46.5, [1, 2, 3, 4, 5], [1, 2, 3, 4, 5], [1, 2, 3, 4, 5]]\n"
     ]
    }
   ],
   "source": [
    "#solution10) append enables us to add the element to the end of the list whereas through insert function we can add the values at any index we want for instance:-\n",
    "list2\n",
    "list2.append([1,2,3,4,5])\n",
    "print(list2)\n",
    "list2.insert(0,[1,2,3,4,5,6])\n",
    "print(list2)"
   ]
  },
  {
   "cell_type": "code",
   "execution_count": 101,
   "id": "3dc14a79",
   "metadata": {},
   "outputs": [
    {
     "name": "stdout",
     "output_type": "stream",
     "text": [
      "[1, 2, 3, 'python', 'ineuron', 46.5]\n",
      "[2, 3, 'python', 'ineuron', 46.5]\n",
      "[2, 3, 'ineuron', 46.5]\n"
     ]
    }
   ],
   "source": [
    "#solution11)the del function and remove() functions are used to eleminate values from the list\n",
    "list2 = [1,2,3,\"python\",\"ineuron\", 46.5]\n",
    "print(list2)\n",
    "del list2[0]\n",
    "print(list2)\n",
    "list2.remove('python')\n",
    "print(list2)"
   ]
  },
  {
   "cell_type": "code",
   "execution_count": 103,
   "id": "180ef1a9",
   "metadata": {},
   "outputs": [],
   "source": [
    "#solution12)some of the simmilar properties of string and list are as follows:-\n",
    "#12.1)list and string have positions that is known as index#\n",
    "#12.2)in both string and list we can apply len() function to know the lenth of elements within them.\n",
    "#12.3) both list and string can be concatenated and iterated through loop.\n"
   ]
  },
  {
   "cell_type": "code",
   "execution_count": 104,
   "id": "0a4d11c4",
   "metadata": {},
   "outputs": [],
   "source": [
    "#solution13)13.1)tuples are enclosed within the () curved bracket whereas list is enclosed within the squared bracket.\n",
    "#13.2)tuples are immutable whereas list is mutable."
   ]
  },
  {
   "cell_type": "code",
   "execution_count": 109,
   "id": "530746c1",
   "metadata": {},
   "outputs": [
    {
     "name": "stdout",
     "output_type": "stream",
     "text": [
      "<class 'int'>\n",
      "<class 'tuple'>\n"
     ]
    }
   ],
   "source": [
    "#solution14)\n",
    "tuple = (42)\n",
    "print(type(tuple))\n",
    "tuple = (42,)\n",
    "print(type(tuple))"
   ]
  },
  {
   "cell_type": "code",
   "execution_count": 118,
   "id": "68fc2ac8",
   "metadata": {},
   "outputs": [
    {
     "name": "stdout",
     "output_type": "stream",
     "text": [
      "(1, 2, 3, 4, 5, 'python', 'coding')\n",
      "<class 'tuple'>\n",
      "<class 'list'>\n"
     ]
    }
   ],
   "source": [
    "#solution15) we can get a  list value's tuple form and vice versa with the help of type casting\n",
    "tuple2 = (1,2,3,4,5,\"python\",\"coding\")\n",
    "print(tuple2)\n",
    "print(type(tuple2))\n",
    "list(tuple2)\n",
    "print(type(list(tuple2)))"
   ]
  },
  {
   "cell_type": "code",
   "execution_count": 129,
   "id": "e2bef898",
   "metadata": {},
   "outputs": [
    {
     "name": "stdout",
     "output_type": "stream",
     "text": [
      "[2, 3, 'ineuron', 46.5]\n"
     ]
    },
    {
     "data": {
      "text/plain": [
       "2"
      ]
     },
     "execution_count": 129,
     "metadata": {},
     "output_type": "execute_result"
    }
   ],
   "source": [
    "#solution16)variable that contains list values are not list themselves but they can be used to get the elements inside the list, in short they are references to the to the list values.\n",
    "list2\n",
    "print(list2)\n",
    "#here list2 is a variable through which we have refered to the zero indexex that holds 2 as its value.\n",
    "list2[0]"
   ]
  },
  {
   "cell_type": "code",
   "execution_count": 197,
   "id": "8f93d7d7",
   "metadata": {},
   "outputs": [
    {
     "name": "stdout",
     "output_type": "stream",
     "text": [
      "[1, 2, 3, 4]\n",
      "[0, 2, 3, 4]\n",
      "[0, 2, 3, 4]\n",
      "[0, 2, 3, 4, 0]\n",
      "[0, 2, 3, 4]\n"
     ]
    }
   ],
   "source": [
    "\n",
    "#solution17\n",
    "list10 = [1,2,3,4]\n",
    "list20 = list10\n",
    "print(list20)\n",
    "list20[0] = 0\n",
    "print(list20)\n",
    "print(list10)\n",
    "list20 = copy.copy(list10)\n",
    "list20.append(0)\n",
    "print(list20)\n",
    "print(list10)\n",
    "\n",
    "#we made list20 = list 10 so any changes made in the list 20 will affect the list 10 but if we want to copy the objects of\n",
    "#list10 to list20 making list20 the complete independent object unaffected by the changes in list 10 then we can use copy.copy() function."
   ]
  },
  {
   "cell_type": "code",
   "execution_count": 188,
   "id": "c4a4d1b2",
   "metadata": {},
   "outputs": [
    {
     "name": "stdout",
     "output_type": "stream",
     "text": [
      "[0, 2, 3, 4]\n"
     ]
    }
   ],
   "source": [
    "list20 = list10"
   ]
  }
 ],
 "metadata": {
  "kernelspec": {
   "display_name": "Python 3 (ipykernel)",
   "language": "python",
   "name": "python3"
  },
  "language_info": {
   "codemirror_mode": {
    "name": "ipython",
    "version": 3
   },
   "file_extension": ".py",
   "mimetype": "text/x-python",
   "name": "python",
   "nbconvert_exporter": "python",
   "pygments_lexer": "ipython3",
   "version": "3.9.7"
  }
 },
 "nbformat": 4,
 "nbformat_minor": 5
}
