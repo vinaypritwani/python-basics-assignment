{
 "cells": [
  {
   "cell_type": "code",
   "execution_count": null,
   "id": "b566f94e",
   "metadata": {},
   "outputs": [],
   "source": [
    "# Sol1) re module can be imported for generating Regex objects {re.compitle()}."
   ]
  },
  {
   "cell_type": "code",
   "execution_count": null,
   "id": "d252758c",
   "metadata": {},
   "outputs": [],
   "source": [
    "# Sol2) Raw strings often appear in regex objects to prevent backslash from escaping."
   ]
  },
  {
   "cell_type": "code",
   "execution_count": null,
   "id": "0ddab171",
   "metadata": {},
   "outputs": [],
   "source": [
    "# Sol3) The return value of the search method is a match object if the object is present in the string else it returns none."
   ]
  },
  {
   "cell_type": "code",
   "execution_count": null,
   "id": "08fffd92",
   "metadata": {},
   "outputs": [],
   "source": [
    "# Sol4) group() For matched items  group() method returns the actual string that match the pattern"
   ]
  },
  {
   "cell_type": "code",
   "execution_count": 17,
   "id": "c0535c05",
   "metadata": {},
   "outputs": [
    {
     "name": "stdout",
     "output_type": "stream",
     "text": [
      "Output: Ineuron\n"
     ]
    }
   ],
   "source": [
    "# import re\n",
    "match = re.search('ineuron','I am enrolled in a Data Science program with Ineuron', flags=re.IGNORECASE)\n",
    "print('Output:',match.group())"
   ]
  },
  {
   "cell_type": "code",
   "execution_count": null,
   "id": "40b73876",
   "metadata": {},
   "outputs": [],
   "source": [
    "# Sol5) \n",
    "# group zero covers the entire (\\d\\d\\d)-(\\d\\d\\d-\\d\\d\\d\\d)\n",
    "# group 1 covers (\\d\\d\\d)\n",
    "# group 2 covers (\\d\\d\\d-\\d\\d\\d\\d)"
   ]
  },
  {
   "cell_type": "code",
   "execution_count": null,
   "id": "6ebe3689",
   "metadata": {},
   "outputs": [],
   "source": [
    "# Sol6) Periods and parentheses can be escaped with a backslash: \\., \\(, and \\)."
   ]
  },
  {
   "cell_type": "code",
   "execution_count": null,
   "id": "bbd7f64e",
   "metadata": {},
   "outputs": [],
   "source": [
    "# Sol7) If there is a one group in the expression or regex pattern , findall() will return list of strings \n",
    "# but if there is several groups in the expression, findall() returns list of tuple of strings."
   ]
  },
  {
   "cell_type": "code",
   "execution_count": null,
   "id": "62cf15f8",
   "metadata": {},
   "outputs": [],
   "source": [
    "# Sol8) In Standard Expressions | means either, OR operator."
   ]
  },
  {
   "cell_type": "code",
   "execution_count": null,
   "id": "4d503005",
   "metadata": {},
   "outputs": [],
   "source": [
    "# Sol10) In regex ' + ' refers one or more occurences\n",
    "# ' * ' refers zero or more occurences."
   ]
  },
  {
   "cell_type": "code",
   "execution_count": null,
   "id": "93792c2e",
   "metadata": {},
   "outputs": [],
   "source": [
    "# Sol11) {4} in regex means preceding character is to be repeated at least 4 times.\n",
    "# {4,5} in regex means preceding character is repeated at least 4 times and maximum 5 times or 4 to 5 times."
   ]
  },
  {
   "cell_type": "code",
   "execution_count": null,
   "id": "5c0dfc23",
   "metadata": {},
   "outputs": [],
   "source": [
    "# Sol12) \\d returns a match where the string contains digits from  0-9, \\w returns a match where the string \n",
    "# contains any word characters  from a to Z, digits from 0-9, and the underscore _ character, \\s returns a\n",
    "# match where the string contains a white space character\n"
   ]
  },
  {
   "cell_type": "code",
   "execution_count": null,
   "id": "009c51a7",
   "metadata": {},
   "outputs": [],
   "source": [
    "# Sol 13) \\D returns the match where the string doesn't have the digits, \\W returns a match where the string\n",
    "# doesn't contain any of the word characters, \\S returns a match where the string doesn't contain a white space\n",
    "# character."
   ]
  },
  {
   "cell_type": "code",
   "execution_count": null,
   "id": "3e86ca3d",
   "metadata": {},
   "outputs": [],
   "source": [
    "# Sol14) .* is a Greedy mode, which returns the longest string when it meets the condition. Whereas .*?\n",
    "# is a non greedy mode which returns the shortest string when it meets\n",
    "# the condition."
   ]
  },
  {
   "cell_type": "code",
   "execution_count": null,
   "id": "48a6274c",
   "metadata": {},
   "outputs": [],
   "source": [
    "# Sol15) The syntax for matching both numbers and lowercase letters with a character class is [a-z0-9]."
   ]
  },
  {
   "cell_type": "code",
   "execution_count": null,
   "id": "fc4291cc",
   "metadata": {},
   "outputs": [],
   "source": [
    "# Sol16)  re.IGNORECASE is used as a flag to make a normal expression case insensitive."
   ]
  },
  {
   "cell_type": "code",
   "execution_count": null,
   "id": "17b58d8f",
   "metadata": {},
   "outputs": [],
   "source": [
    "# Sol 17) . character matches everything except newline character, if we passs re.DOTALL as a flag to re.compile(), we can make the dot character match all characters, including\n",
    "# the newline character."
   ]
  },
  {
   "cell_type": "code",
   "execution_count": null,
   "id": "a5a1c0d5",
   "metadata": {},
   "outputs": [],
   "source": [
    "# Sol 18) 'X drummers, X pipers, five rings, X hen'."
   ]
  },
  {
   "cell_type": "code",
   "execution_count": null,
   "id": "be7b5514",
   "metadata": {},
   "outputs": [],
   "source": [
    "# Sol19) re.VERBOSE it will allow to add whitespace and comments to string passed to re.compile()."
   ]
  },
  {
   "cell_type": "code",
   "execution_count": 18,
   "id": "df2c571b",
   "metadata": {},
   "outputs": [
    {
     "data": {
      "text/plain": [
       "re.compile(r'[A-Z][a-z]*\\sNakamoto', re.UNICODE)"
      ]
     },
     "execution_count": 18,
     "metadata": {},
     "output_type": "execute_result"
    }
   ],
   "source": [
    "# Sol20)\n",
    "re.compile(r'[A-Z][a-z]*\\sNakamoto')"
   ]
  }
 ],
 "metadata": {
  "kernelspec": {
   "display_name": "Python 3 (ipykernel)",
   "language": "python",
   "name": "python3"
  },
  "language_info": {
   "codemirror_mode": {
    "name": "ipython",
    "version": 3
   },
   "file_extension": ".py",
   "mimetype": "text/x-python",
   "name": "python",
   "nbconvert_exporter": "python",
   "pygments_lexer": "ipython3",
   "version": "3.9.12"
  }
 },
 "nbformat": 4,
 "nbformat_minor": 5
}
