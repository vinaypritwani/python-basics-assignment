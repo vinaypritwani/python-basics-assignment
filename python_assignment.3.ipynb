{
 "cells": [
  {
   "cell_type": "code",
   "execution_count": 3,
   "id": "6c5a031c",
   "metadata": {},
   "outputs": [],
   "source": [
    "#solution 1) python function refers to the block of statements or set of a code that performs or returns the specific task when it is called.\n",
    "# it has variety of advantages which are as follows:-\n",
    "#1.1) it reduces the duplicacy of the code, in nutshell we don't need to go through the pain of wirting the complex piece of code frequently\n",
    "#by writing a function we can call it anytime we want to get the desired output, hence this is time efficient and reduces effort.\n",
    "#1.2) It is also helpful when the team of developers want to make some modification in the code without changing each \n",
    "# our team member can simply change the code written in the function.\n",
    "#1.3) Writing a function enable us to read, debug or scale the code in a smooth way.\n",
    "#1.4)Function enables us to test the piece of a code in isolation from the rest."
   ]
  },
  {
   "cell_type": "code",
   "execution_count": 4,
   "id": "99a7ddb6",
   "metadata": {},
   "outputs": [],
   "source": [
    "#solution 2)The code in a function is run or executes when the function is called not when it is specified."
   ]
  },
  {
   "cell_type": "code",
   "execution_count": 12,
   "id": "02a7d7f0",
   "metadata": {},
   "outputs": [],
   "source": [
    "#solution 3)The def keyword creates the python function followed by the name of the function which can be anything followedby the \n",
    "#opening and closing parenthesis.\n",
    "\n",
    "#for instance:-\n",
    "\n",
    "def test(a,b):\n",
    "    if a < b:\n",
    "        return('a is smaller then b')\n",
    "    else:\n",
    "        return('a is not smaller then b')"
   ]
  },
  {
   "cell_type": "code",
   "execution_count": 13,
   "id": "30ecc4f5",
   "metadata": {},
   "outputs": [
    {
     "data": {
      "text/plain": [
       "'a is smaller then b'"
      ]
     },
     "execution_count": 13,
     "metadata": {},
     "output_type": "execute_result"
    }
   ],
   "source": [
    "test(2,3)"
   ]
  },
  {
   "cell_type": "code",
   "execution_count": 15,
   "id": "f828cf4c",
   "metadata": {},
   "outputs": [],
   "source": [
    "#solution 4)a function is a piece or block of a code that is used to perform a particular operation and return the output\n",
    "#or result where as a function call is like a request made made by a program to execute the function that is pre written.\n",
    "\n",
    "#in the above solution\n",
    "def test(a,b):\n",
    "    if a < b:\n",
    "        return('a is smaller then b')\n",
    "    else:\n",
    "        return('a is not smaller then b') \n",
    "    #is the function \n",
    "    #and test(2,3) is the function call"
   ]
  },
  {
   "cell_type": "code",
   "execution_count": 17,
   "id": "f5470b5c",
   "metadata": {},
   "outputs": [],
   "source": [
    "#solution 5)There’s one global scope  and local scope in python per program execution or function whenever its called."
   ]
  },
  {
   "cell_type": "code",
   "execution_count": 18,
   "id": "a8787ee2",
   "metadata": {},
   "outputs": [],
   "source": [
    "#solution 6)The variable in a local scope gets destroyed when the funcion call returns."
   ]
  },
  {
   "cell_type": "code",
   "execution_count": 19,
   "id": "85cf46b4",
   "metadata": {},
   "outputs": [],
   "source": [
    "#solution 7)A return statement enables us to terminate the execution of the function call and returns the desired output to the caller.\n",
    "#yes it is possible to have a return value as a part of an expression."
   ]
  },
  {
   "cell_type": "code",
   "execution_count": 24,
   "id": "1dd33829",
   "metadata": {},
   "outputs": [],
   "source": [
    "#solution 8) f a function does not have a return statement,then the return value of a call to that function is none."
   ]
  },
  {
   "cell_type": "code",
   "execution_count": 25,
   "id": "c1b04f73",
   "metadata": {},
   "outputs": [],
   "source": [
    "#solution9)create_global_variable() can be used to make a function refer to a global variable."
   ]
  },
  {
   "cell_type": "code",
   "execution_count": 28,
   "id": "e2d076f8",
   "metadata": {},
   "outputs": [
    {
     "data": {
      "text/plain": [
       "NoneType"
      ]
     },
     "execution_count": 28,
     "metadata": {},
     "output_type": "execute_result"
    }
   ],
   "source": [
    "#solution10) The datatype of None is NoneType.\n",
    "type(None)"
   ]
  },
  {
   "cell_type": "code",
   "execution_count": null,
   "id": "54a1bc91",
   "metadata": {},
   "outputs": [],
   "source": [
    "#solution11)The import sentence import areallyourpetsnamederic imports a module named areallyourpetsnamederic."
   ]
  },
  {
   "cell_type": "code",
   "execution_count": 31,
   "id": "69e6de38",
   "metadata": {},
   "outputs": [],
   "source": [
    "#solution12)I will call the function spam.bacon()"
   ]
  },
  {
   "cell_type": "code",
   "execution_count": 43,
   "id": "e6146931",
   "metadata": {},
   "outputs": [],
   "source": [
    "#solution13) Exceptional handling is the programming practice we will adopt here to handle the error by using try clause and except block.\n",
    "def add(a,b):\n",
    "    try:\n",
    "        return a/b\n",
    "    except Exception as e:\n",
    "        return 'error'"
   ]
  },
  {
   "cell_type": "code",
   "execution_count": 45,
   "id": "5d9f8b32",
   "metadata": {},
   "outputs": [
    {
     "data": {
      "text/plain": [
       "'error'"
      ]
     },
     "execution_count": 45,
     "metadata": {},
     "output_type": "execute_result"
    }
   ],
   "source": [
    "add(4,0)"
   ]
  },
  {
   "cell_type": "code",
   "execution_count": 46,
   "id": "52de0348",
   "metadata": {},
   "outputs": [],
   "source": [
    "#solution14)The piece of a code that has the probability of causing an error comes under the try cluase and piece of a code\n",
    "# that needs to be executed if the error occurs goes under the except clause."
   ]
  }
 ],
 "metadata": {
  "kernelspec": {
   "display_name": "Python 3 (ipykernel)",
   "language": "python",
   "name": "python3"
  },
  "language_info": {
   "codemirror_mode": {
    "name": "ipython",
    "version": 3
   },
   "file_extension": ".py",
   "mimetype": "text/x-python",
   "name": "python",
   "nbconvert_exporter": "python",
   "pygments_lexer": "ipython3",
   "version": "3.9.7"
  }
 },
 "nbformat": 4,
 "nbformat_minor": 5
}
