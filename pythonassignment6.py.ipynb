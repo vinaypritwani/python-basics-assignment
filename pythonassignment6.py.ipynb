{
 "cells": [
  {
   "cell_type": "code",
   "execution_count": 12,
   "id": "7973e99c",
   "metadata": {},
   "outputs": [
    {
     "name": "stdout",
     "output_type": "stream",
     "text": [
      "hello'world'\n",
      "My name is \tvinay\n",
      "INeuron offers\\ the data \bscience course on a \n",
      " 'AFFORDABLE\t PRICE'\n",
      "INeuron offers the data \\bscience course on a \\n 'AFFORDABLE\\t PRICE'\n"
     ]
    }
   ],
   "source": [
    "#sol1) Escape characters refers to the characters with the help of which we can insert special or illegal characters in the \n",
    "#string, in the escape sequence, an escape character is inserted with the helo of \\(backslash). \n",
    "\n",
    "#some examples of backslash character are:-\n",
    "\n",
    "print(\"hello\\'world'\")\n",
    "print(\"My name is \\tvinay\")\n",
    "print(\"INeuron offers\\\\ the data \\bscience course on a \\n 'AFFORDABLE\\t PRICE'\")\n",
    "print(r\"INeuron offers the data \\bscience course on a \\n 'AFFORDABLE\\t PRICE'\")\n"
   ]
  },
  {
   "cell_type": "code",
   "execution_count": 16,
   "id": "b801637e",
   "metadata": {},
   "outputs": [
    {
     "name": "stdout",
     "output_type": "stream",
     "text": [
      "ineuron is known for \n",
      "its edtech\t services\n"
     ]
    }
   ],
   "source": [
    "#sol2) \\n character is used for a new line and \\t is tab.\n",
    "\n",
    "print(\"ineuron is known for \\nits edtech\\t services\")"
   ]
  },
  {
   "cell_type": "code",
   "execution_count": 19,
   "id": "65705e57",
   "metadata": {},
   "outputs": [
    {
     "name": "stdout",
     "output_type": "stream",
     "text": [
      "my name is \\'vinay'\n"
     ]
    }
   ],
   "source": [
    "#Sol3) we can use \\\\ double backslash to insert backslash character in a string.\n",
    "print(\"my name is \\\\'vinay'\")"
   ]
  },
  {
   "cell_type": "code",
   "execution_count": 26,
   "id": "227ac1a4",
   "metadata": {},
   "outputs": [
    {
     "ename": "SyntaxError",
     "evalue": "invalid syntax (<ipython-input-26-b9592a54fcb7>, line 4)",
     "output_type": "error",
     "traceback": [
      "\u001b[0;36m  File \u001b[0;32m\"<ipython-input-26-b9592a54fcb7>\"\u001b[0;36m, line \u001b[0;32m4\u001b[0m\n\u001b[0;31m    'Howl's Moving Castle'\u001b[0m\n\u001b[0m          ^\u001b[0m\n\u001b[0;31mSyntaxError\u001b[0m\u001b[0;31m:\u001b[0m invalid syntax\n"
     ]
    }
   ],
   "source": [
    "#Sol4) The single quote characger in howl's moving castle didn't escaped the problem beacuse it is quoted inside the double \n",
    "#quote, if it had been quoted inside the single quote then it would have thrown the error like this:-\n",
    "\n",
    "'Howl's Moving Castle'\n"
   ]
  },
  {
   "cell_type": "code",
   "execution_count": 27,
   "id": "bdd18d05",
   "metadata": {},
   "outputs": [
    {
     "name": "stdout",
     "output_type": "stream",
     "text": [
      "ineuron has some of the best courses\n",
      "      to offer in edtech space\n"
     ]
    }
   ],
   "source": [
    "#sol5) we can write triple quotes to write multiline string without using \\n character.\n",
    "print(\"\"\"ineuron has some of the best courses\n",
    "      to offer in edtech space\"\"\")"
   ]
  },
  {
   "cell_type": "code",
   "execution_count": 40,
   "id": "8931bd28",
   "metadata": {},
   "outputs": [],
   "source": [
    "#sol6) the value of'Hello, world!'[1],'Hello, world!'[0:5]',Hello, world!'[:5], 'Hello, world!'[3:]\n"
   ]
  },
  {
   "cell_type": "code",
   "execution_count": 41,
   "id": "b78c0e68",
   "metadata": {},
   "outputs": [
    {
     "name": "stdout",
     "output_type": "stream",
     "text": [
      "e\n",
      "Hello\n",
      "Hello\n",
      "lo, world!\n"
     ]
    }
   ],
   "source": [
    "print('Hello, world!'[1])\n",
    "print('Hello, world!'[0:5]) \n",
    "print('Hello, world!'[:5]) \n",
    "print('Hello, world!'[3:])"
   ]
  },
  {
   "cell_type": "code",
   "execution_count": 45,
   "id": "5713ad45",
   "metadata": {},
   "outputs": [
    {
     "name": "stdout",
     "output_type": "stream",
     "text": [
      "HELLO\n",
      "True\n",
      "hello\n"
     ]
    }
   ],
   "source": [
    "#sol7)\n",
    "print('Hello'.upper())\n",
    "print('Hello'.upper().isupper())\n",
    "print('Hello'.upper().lower())"
   ]
  },
  {
   "cell_type": "code",
   "execution_count": 50,
   "id": "2c442180",
   "metadata": {},
   "outputs": [
    {
     "data": {
      "text/plain": [
       "['Remember,', 'remember,', 'the', 'fifith', 'of', 'July.']"
      ]
     },
     "execution_count": 50,
     "metadata": {},
     "output_type": "execute_result"
    }
   ],
   "source": [
    "#sol8)The values of the following expressions are:\n",
    "'Remember, remember, the fifith of July.'.split()\n"
   ]
  },
  {
   "cell_type": "code",
   "execution_count": 51,
   "id": "f08f1f1e",
   "metadata": {},
   "outputs": [
    {
     "data": {
      "text/plain": [
       "'There-can-only-one'"
      ]
     },
     "execution_count": 51,
     "metadata": {},
     "output_type": "execute_result"
    }
   ],
   "source": [
    "'-'.join('There can only one'.split())"
   ]
  },
  {
   "cell_type": "code",
   "execution_count": 79,
   "id": "d3b1e258",
   "metadata": {},
   "outputs": [
    {
     "name": "stdout",
     "output_type": "stream",
     "text": [
      "###I am computer geek###\n",
      "######I am computer geek\n",
      "I am computer geek######\n"
     ]
    }
   ],
   "source": [
    "#sol9) The rjust(),ljust(),center() string methods are used for right-justifying, left-justifying, and centering a string\n",
    "\n",
    "\n",
    "string = \"I am computer geek\"\n",
    "vinay = string.center(24, '#')\n",
    "print(vinay)\n",
    "\n",
    "vinay1 = string.rjust(24, '#')\n",
    "print(vinay1)\n",
    "\n",
    "vinay2 = string.ljust(24, '#')\n",
    "print(vinay2)"
   ]
  },
  {
   "cell_type": "code",
   "execution_count": 88,
   "id": "c4b159ca",
   "metadata": {},
   "outputs": [
    {
     "name": "stdout",
     "output_type": "stream",
     "text": [
      "my name is vinay\n",
      " but my name is pritwani too but people prefer to call me vinay because my nick name is unknown to them\n"
     ]
    }
   ],
   "source": [
    "#sol10) The lstrip() and rstrip() functions are used  to remove whitesapce characters from the left and\n",
    "#right side of the string.\n",
    "\n",
    "\n",
    "vinay = \"                   my name is vinay\"\n",
    "print(vinay.lstrip())\n",
    "\n",
    "pritwani = \" but my name is pritwani too but people prefer to call me vinay because my nick name is unknown to them            \"\n",
    "print(pritwani.rstrip())"
   ]
  },
  {
   "cell_type": "code",
   "execution_count": null,
   "id": "4898bb12",
   "metadata": {},
   "outputs": [],
   "source": []
  }
 ],
 "metadata": {
  "kernelspec": {
   "display_name": "Python 3",
   "language": "python",
   "name": "python3"
  },
  "language_info": {
   "codemirror_mode": {
    "name": "ipython",
    "version": 3
   },
   "file_extension": ".py",
   "mimetype": "text/x-python",
   "name": "python",
   "nbconvert_exporter": "python",
   "pygments_lexer": "ipython3",
   "version": "3.6.15"
  }
 },
 "nbformat": 4,
 "nbformat_minor": 5
}
